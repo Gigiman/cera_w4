{
 "cells": [
  {
   "cell_type": "code",
   "execution_count": 17,
   "metadata": {},
   "outputs": [],
   "source": [
    "import pandas as pd\n",
    "import numpy as np\n",
    "import matplotlib.pyplot as plt\n",
    "from scipy.stats import arcsine, norm\n",
    "%matplotlib inline"
   ]
  },
  {
   "cell_type": "code",
   "execution_count": 18,
   "metadata": {},
   "outputs": [
    {
     "data": {
      "text/plain": [
       "[<matplotlib.lines.Line2D at 0x1a1e8c5b00>]"
      ]
     },
     "execution_count": 18,
     "metadata": {},
     "output_type": "execute_result"
    },
    {
     "data": {
      "image/png": "[encoded data removed]",
      "text/plain": [
       "<Figure size 432x288 with 1 Axes>"
      ]
     },
     "metadata": {
      "needs_background": "light"
     },
     "output_type": "display_data"
    }
   ],
   "source": [
    "# Выбираем распределение Арксинуса\n",
    "arcsin_rv = arcsine(1)\n",
    "\n",
    "# Генерируем выборку объемом в 1000\n",
    "selection = arcsin_rv.rvs(size=1000)\n",
    "\n",
    "# Строим Гистограмму из нашей выборки\n",
    "# !!! Note: заменил normed на density т.к. использую python 3.7 с более новой версией Matplotlib\n",
    "plt.hist(selection, density=True)\n",
    "plt.ylabel('fraction of samples')\n",
    "plt.xlabel('$x$')\n",
    "\n",
    "# Строим функцию распределения\n",
    "x = np.linspace(0,7,1000)\n",
    "cdf = arcsin_rv.cdf(x)\n",
    "plt.plot(x, cdf, label='theoretical CDF')\n"
   ]
  },
  {
   "cell_type": "code",
   "execution_count": 19,
   "metadata": {},
   "outputs": [
    {
     "name": "stdout",
     "output_type": "stream",
     "text": [
      "0.12615324881140286\n",
      "1.4926683596807384\n"
     ]
    }
   ],
   "source": [
    "initialDispersion = np.var(selection)\n",
    "initialAvg = np.mean(selection)\n",
    "\n",
    "print(initialDispersion)\n",
    "print(initialAvg)\n",
    "\n",
    "# Дисперсия по начальной выборке = 0.1266130641242096\n",
    "# Среднее выборочное по начально выборке = 1.5037360790556908"
   ]
  },
  {
   "cell_type": "code",
   "execution_count": 20,
   "metadata": {},
   "outputs": [
    {
     "ename": "UnboundLocalError",
     "evalue": "local variable 'norm' referenced before assignment",
     "output_type": "error",
     "traceback": [
      "\u001b[0;31m---------------------------------------------------------------------------\u001b[0m",
      "\u001b[0;31mUnboundLocalError\u001b[0m                         Traceback (most recent call last)",
      "\u001b[0;32m<ipython-input-20-a5aa3d4970ae>\u001b[0m in \u001b[0;36m<module>\u001b[0;34m\u001b[0m\n\u001b[1;32m     20\u001b[0m \u001b[0;34m\u001b[0m\u001b[0m\n\u001b[1;32m     21\u001b[0m \u001b[0;32mfor\u001b[0m \u001b[0mvolume\u001b[0m \u001b[0;32min\u001b[0m \u001b[0mvolumes\u001b[0m\u001b[0;34m:\u001b[0m\u001b[0;34m\u001b[0m\u001b[0;34m\u001b[0m\u001b[0m\n\u001b[0;32m---> 22\u001b[0;31m     \u001b[0mgetVolumeGraphs\u001b[0m\u001b[0;34m(\u001b[0m\u001b[0mvolume\u001b[0m\u001b[0;34m)\u001b[0m\u001b[0;34m\u001b[0m\u001b[0;34m\u001b[0m\u001b[0m\n\u001b[0m\u001b[1;32m     23\u001b[0m \u001b[0;34m\u001b[0m\u001b[0m\n\u001b[1;32m     24\u001b[0m \u001b[0;34m\u001b[0m\u001b[0m\n",
      "\u001b[0;32m<ipython-input-20-a5aa3d4970ae>\u001b[0m in \u001b[0;36mgetVolumeGraphs\u001b[0;34m(n)\u001b[0m\n\u001b[1;32m     12\u001b[0m     \u001b[0;31m# Рисуем распределение плотности\u001b[0m\u001b[0;34m\u001b[0m\u001b[0;34m\u001b[0m\u001b[0;34m\u001b[0m\u001b[0m\n\u001b[1;32m     13\u001b[0m     \u001b[0mx\u001b[0m \u001b[0;34m=\u001b[0m \u001b[0mnp\u001b[0m\u001b[0;34m.\u001b[0m\u001b[0mlinspace\u001b[0m\u001b[0;34m(\u001b[0m\u001b[0;36m0\u001b[0m\u001b[0;34m,\u001b[0m\u001b[0;36m10\u001b[0m\u001b[0;34m,\u001b[0m\u001b[0;36m1000\u001b[0m\u001b[0;34m)\u001b[0m\u001b[0;34m\u001b[0m\u001b[0;34m\u001b[0m\u001b[0m\n\u001b[0;32m---> 14\u001b[0;31m     \u001b[0mnorm\u001b[0m \u001b[0;34m=\u001b[0m \u001b[0mnorm\u001b[0m\u001b[0;34m.\u001b[0m\u001b[0mpdf\u001b[0m\u001b[0;34m(\u001b[0m\u001b[0mx\u001b[0m\u001b[0;34m,\u001b[0m \u001b[0;36m0.5\u001b[0m\u001b[0;34m,\u001b[0m \u001b[0;36m0.125\u001b[0m\u001b[0;34m)\u001b[0m\u001b[0;34m\u001b[0m\u001b[0;34m\u001b[0m\u001b[0m\n\u001b[0m\u001b[1;32m     15\u001b[0m \u001b[0;31m#     pdf = arcsin_rv.pdf(x)\u001b[0m\u001b[0;34m\u001b[0m\u001b[0;34m\u001b[0m\u001b[0;34m\u001b[0m\u001b[0m\n\u001b[1;32m     16\u001b[0m \u001b[0;31m#     plt.plot(x, pdf, label='theoretical pdf', alpha=0.5)\u001b[0m\u001b[0;34m\u001b[0m\u001b[0;34m\u001b[0m\u001b[0;34m\u001b[0m\u001b[0m\n",
      "\u001b[0;31mUnboundLocalError\u001b[0m: local variable 'norm' referenced before assignment"
     ]
    },
    {
     "data": {
      "image/png": "[encoded data removed]",
      "text/plain": [
       "<Figure size 432x288 with 1 Axes>"
      ]
     },
     "metadata": {
      "needs_background": "light"
     },
     "output_type": "display_data"
    }
   ],
   "source": [
    "volumes = [5, 10, 50]\n",
    "\n",
    "def getVolumeGraphs(n):\n",
    "    # Переменная определяющая распределение по объему\n",
    "    arrangementByVol = arcsin_rv.rvs(n)\n",
    "    volMeanValues = []\n",
    "    # Цикл расчитывающий среднее для всех выборок по объему\n",
    "    for i in range(1000):\n",
    "        volMeanValues.append(arrangementByVol.mean())\n",
    "    # Рисуем гистограмму\n",
    "    plt.hist(volMeanValues, density=True)\n",
    "    # Рисуем распределение плотности\n",
    "    x = np.linspace(0,10,1000)\n",
    "    norm = norm.pdf(x, 0.5, 0.125)\n",
    "#     plt.plot(x, pdf, label='theoretical pdf', alpha=0.5)\n",
    "#     plt.legend()\n",
    "#     plt.ylabel('$f(x)$')\n",
    "#     plt.xlabel('$x$')\n",
    "\n",
    "for volume in volumes:\n",
    "    getVolumeGraphs(volume)\n",
    "\n",
    "\n",
    "# сгенерировать тысячу выборо объемом 5 нарисовать график и плотность\n",
    "# сделал 1000 выборок, посчитал среднее значение - 1000 средних зн-ий рисуешь распределение\n"
   ]
  },
  {
   "cell_type": "code",
   "execution_count": null,
   "metadata": {},
   "outputs": [],
   "source": []
  }
 ],
 "metadata": {
  "kernelspec": {
   "display_name": "Python 3",
   "language": "python",
   "name": "python3"
  },
  "language_info": {
   "codemirror_mode": {
    "name": "ipython",
    "version": 3
   },
   "file_extension": ".py",
   "mimetype": "text/x-python",
   "name": "python",
   "nbconvert_exporter": "python",
   "pygments_lexer": "ipython3",
   "version": "3.7.3"
  }
 },
 "nbformat": 4,
 "nbformat_minor": 2
}
