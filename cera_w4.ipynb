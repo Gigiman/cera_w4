{
 "cells": [
  {
   "cell_type": "code",
   "execution_count": 28,
   "metadata": {},
   "outputs": [],
   "source": [
    "import pandas as pd\n",
    "import numpy as np\n",
    "import matplotlib.pyplot as plt\n",
    "from scipy.stats import arcsine, norm\n",
    "%matplotlib inline"
   ]
  },
  {
   "cell_type": "code",
   "execution_count": 29,
   "metadata": {},
   "outputs": [
    {
     "data": {
      "text/plain": [
       "[<matplotlib.lines.Line2D at 0x1a1e5bba20>]"
      ]
     },
     "execution_count": 29,
     "metadata": {},
     "output_type": "execute_result"
    },
    {
     "data": {
      "image/png": "[encoded data removed]",
      "text/plain": [
       "<Figure size 432x288 with 1 Axes>"
      ]
     },
     "metadata": {
      "needs_background": "light"
     },
     "output_type": "display_data"
    }
   ],
   "source": [
    "# Выбираем распределение Арксинуса\n",
    "arcsin_rv = arcsine(1)\n",
    "\n",
    "# Генерируем выборку объемом в 1000\n",
    "selection = arcsin_rv.rvs(size=1000)\n",
    "\n",
    "# Строим Гистограмму из нашей выборки\n",
    "# !!! Note: заменил normed на density т.к. использую python 3.7 с более новой версией Matplotlib\n",
    "plt.hist(selection, density=True)\n",
    "plt.ylabel('fraction of samples')\n",
    "plt.xlabel('$x$')\n",
    "\n",
    "# Строим функцию распределения\n",
    "x = np.linspace(0,10,1000)\n",
    "cdf = arcsin_rv.cdf(x)\n",
    "plt.plot(x, cdf, label='theoretical CDF')\n"
   ]
  },
  {
   "cell_type": "code",
   "execution_count": 30,
   "metadata": {},
   "outputs": [
    {
     "name": "stdout",
     "output_type": "stream",
     "text": [
      "0.12760135102254322\n",
      "1.4953498294541054\n"
     ]
    }
   ],
   "source": [
    "initialDispersion = np.var(selection)\n",
    "initialAvg = np.mean(selection)\n",
    "\n",
    "print(initialDispersion)\n",
    "print(initialAvg)\n",
    "\n",
    "# Дисперсия по начальной выборке = 0.1266130641242096\n",
    "# Среднее выборочное по начально выборке = 1.5037360790556908"
   ]
  },
  {
   "cell_type": "code",
   "execution_count": 32,
   "metadata": {},
   "outputs": [
    {
     "data": {
      "image/png": "[encoded data removed]",
      "text/plain": [
       "<Figure size 432x288 with 1 Axes>"
      ]
     },
     "metadata": {
      "needs_background": "light"
     },
     "output_type": "display_data"
    }
   ],
   "source": [
    "volumes = [5, 10, 50]\n",
    "\n",
    "def getVolumeGraphs(n):\n",
    "    # Переменная определяющая распределение по объему\n",
    "    arrangementByVol = arcsin_rv.rvs(n)\n",
    "    volMeanValues = []\n",
    "    # Цикл расчитывающий среднее для всех выборок по объему\n",
    "    for i in range(1000):\n",
    "        volMeanValues.append(arrangementByVol.mean())\n",
    "    # Рисуем гистограмму\n",
    "    plt.hist(volMeanValues, density=True)\n",
    "    # Рисуем распределение плотности\n",
    "    x = np.linspace(0,10,1000)\n",
    "    graphNorm = norm.pdf(x, 0.5, 0.125)\n",
    "    plt.plot(x, graphNorm, label=\"Распределение Нормы\")\n",
    "    plt.legend()\n",
    "    plt.ylabel('$f(x)$')\n",
    "    plt.xlabel('$x$')\n",
    "\n",
    "for volume in volumes:\n",
    "    getVolumeGraphs(volume)"
   ]
  },
  {
   "cell_type": "code",
   "execution_count": null,
   "metadata": {},
   "outputs": [],
   "source": []
  }
 ],
 "metadata": {
  "kernelspec": {
   "display_name": "Python 3",
   "language": "python",
   "name": "python3"
  },
  "language_info": {
   "codemirror_mode": {
    "name": "ipython",
    "version": 3
   },
   "file_extension": ".py",
   "mimetype": "text/x-python",
   "name": "python",
   "nbconvert_exporter": "python",
   "pygments_lexer": "ipython3",
   "version": "3.7.3"
  }
 },
 "nbformat": 4,
 "nbformat_minor": 2
}
